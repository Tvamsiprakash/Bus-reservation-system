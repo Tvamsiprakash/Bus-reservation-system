{
  "nbformat": 4,
  "nbformat_minor": 0,
  "metadata": {
    "colab": {
      "provenance": [],
      "authorship_tag": "ABX9TyOwnKBgECJFWyMNY47m9LxK",
      "include_colab_link": true
    },
    "kernelspec": {
      "name": "python3",
      "display_name": "Python 3"
    },
    "language_info": {
      "name": "python"
    }
  },
  "cells": [
    {
      "cell_type": "markdown",
      "metadata": {
        "id": "view-in-github",
        "colab_type": "text"
      },
      "source": [
        "<a href=\"https://colab.research.google.com/github/Tvamsiprakash/Bus-reservation-system/blob/main/Reshape_and_random_number_generation.ipynb\" target=\"_parent\"><img src=\"https://colab.research.google.com/assets/colab-badge.svg\" alt=\"Open In Colab\"/></a>"
      ]
    },
    {
      "cell_type": "code",
      "execution_count": 2,
      "metadata": {
        "colab": {
          "base_uri": "https://localhost:8080/"
        },
        "id": "JfYyFT2c7sK0",
        "outputId": "b2632dd8-a2da-4519-90a0-c19d35ab03f2"
      },
      "outputs": [
        {
          "output_type": "stream",
          "name": "stdout",
          "text": [
            "Requirement already satisfied: numpy in /usr/local/lib/python3.10/dist-packages (1.25.2)\n"
          ]
        }
      ],
      "source": [
        "!pip install numpy"
      ]
    },
    {
      "cell_type": "code",
      "source": [
        "import numpy as np\n",
        "np.random.random()"
      ],
      "metadata": {
        "colab": {
          "base_uri": "https://localhost:8080/"
        },
        "id": "9ZaqTGO972ec",
        "outputId": "2bfc74c5-af97-491e-b640-799520416d24"
      },
      "execution_count": 18,
      "outputs": [
        {
          "output_type": "execute_result",
          "data": {
            "text/plain": [
              "0.21314910132749076"
            ]
          },
          "metadata": {},
          "execution_count": 18
        }
      ]
    },
    {
      "cell_type": "code",
      "source": [
        "np.random.random((3,3))\n"
      ],
      "metadata": {
        "colab": {
          "base_uri": "https://localhost:8080/"
        },
        "id": "7OyVdOnxB3ns",
        "outputId": "6662001a-133b-4b7a-cb86-4c0374b79c09"
      },
      "execution_count": 25,
      "outputs": [
        {
          "output_type": "execute_result",
          "data": {
            "text/plain": [
              "array([[0.58085248, 0.76749092, 0.28611311],\n",
              "       [0.00707205, 0.85975552, 0.65293182],\n",
              "       [0.72684991, 0.93842206, 0.33530611]])"
            ]
          },
          "metadata": {},
          "execution_count": 25
        }
      ]
    },
    {
      "cell_type": "code",
      "source": [
        "np.arrange(1,100,2)"
      ],
      "metadata": {
        "colab": {
          "base_uri": "https://localhost:8080/"
        },
        "id": "drwNxGBQB8kf",
        "outputId": "516dce9a-9114-42bf-e4be-2db135630ef8"
      },
      "execution_count": 24,
      "outputs": [
        {
          "output_type": "execute_result",
          "data": {
            "text/plain": [
              "array([ 1,  3,  5,  7,  9, 11, 13, 15, 17, 19, 21, 23, 25, 27, 29, 31, 33,\n",
              "       35, 37, 39, 41, 43, 45, 47, 49, 51, 53, 55, 57, 59, 61, 63, 65, 67,\n",
              "       69, 71, 73, 75, 77, 79, 81, 83, 85, 87, 89, 91, 93, 95, 97, 99])"
            ]
          },
          "metadata": {},
          "execution_count": 24
        }
      ]
    },
    {
      "cell_type": "code",
      "source": [
        "np.linspace(1,30,25)"
      ],
      "metadata": {
        "colab": {
          "base_uri": "https://localhost:8080/"
        },
        "id": "3k6mhKqaCVQ8",
        "outputId": "b4dfec1d-3467-450f-aed7-62578ceb0618"
      },
      "execution_count": 23,
      "outputs": [
        {
          "output_type": "execute_result",
          "data": {
            "text/plain": [
              "array([ 1.        ,  2.20833333,  3.41666667,  4.625     ,  5.83333333,\n",
              "        7.04166667,  8.25      ,  9.45833333, 10.66666667, 11.875     ,\n",
              "       13.08333333, 14.29166667, 15.5       , 16.70833333, 17.91666667,\n",
              "       19.125     , 20.33333333, 21.54166667, 22.75      , 23.95833333,\n",
              "       25.16666667, 26.375     , 27.58333333, 28.79166667, 30.        ])"
            ]
          },
          "metadata": {},
          "execution_count": 23
        }
      ]
    },
    {
      "cell_type": "code",
      "source": [
        "arr1 = np.random.random((3,5))\n",
        "arr1.reshape((5,3))\n",
        "arr1.flatten()"
      ],
      "metadata": {
        "colab": {
          "base_uri": "https://localhost:8080/"
        },
        "id": "kZAErrVTCgJr",
        "outputId": "dccbe92d-f199-45aa-9111-05cf6eb0c2bb"
      },
      "execution_count": 31,
      "outputs": [
        {
          "output_type": "execute_result",
          "data": {
            "text/plain": [
              "array([0.99976819, 0.99328169, 0.60502343, 0.80252647, 0.26803312,\n",
              "       0.44997632, 0.12663625, 0.26807991, 0.96616534, 0.94250758,\n",
              "       0.39192771, 0.75623403, 0.78065802, 0.22207267, 0.21862155])"
            ]
          },
          "metadata": {},
          "execution_count": 31
        }
      ]
    }
  ]
}